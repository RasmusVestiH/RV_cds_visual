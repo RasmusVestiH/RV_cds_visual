{
 "cells": [
  {
   "cell_type": "markdown",
   "metadata": {},
   "source": [
    "## Assignment 1 - Basic image processing\n",
    "\n",
    "Basic scripting with Python\n",
    "\n",
    "Create or find small dataset of images, using an online data source such as Kaggle. At the very least, your dataset should contain no fewer than 10 images.\n",
    "\n",
    "\n",
    "\n",
    "Write a Python script which does the following:\n",
    "\n",
    "For each image, find the width, height, and number of channels\n",
    "\n",
    "For each image, split image into four equal-sized quadrants (i.e. top-left, top-right, bottom-left, bottom-right)\n",
    "\n",
    "Save each of the split images in JPG format\n",
    "\n",
    "Create and save a file containing the filename, width, height for all of the new images.\n",
    "\n",
    "\n",
    "General instructions\n",
    "\n",
    "For this exercise, you can upload either a standalone script OR a Jupyter Notebook\n",
    "Save your script as basic_image_processing.py OR basic_image_processing.ipynb\n",
    "If you have external dependencies, you must include a requirements.txt\n",
    "You can either upload the script here or push to GitHub and include a link - or both!\n",
    "Your code should be clearly documented in a way that allows others to easily follow the structure of your script.\n",
    "Similarly, remember to use descriptive variable names! A name like width is more readable than w.\n",
    "The filenames of the split images should clearly relate to the original image.\n",
    "\n",
    "\n",
    "Purpose\n",
    "\n",
    "This assignment is designed to test that you have a understanding of:\n",
    "\n",
    "how to structure, document, and share a Python script;\n",
    "how to effectively make use of basic functions in cv2;\n",
    "how to read, write, and process images files."
   ]
  },
  {
   "cell_type": "code",
   "execution_count": 185,
   "metadata": {},
   "outputs": [],
   "source": [
    "import os\n",
    "import numpy as np\n",
    "import sys \n",
    "sys.path.append(os.path.join(\"..\"))\n",
    "import cv2\n"
   ]
  },
  {
   "cell_type": "code",
   "execution_count": 186,
   "metadata": {},
   "outputs": [],
   "source": [
    "from utils.imutils import jimshow\n",
    "from pathlib import Path\n"
   ]
  },
  {
   "cell_type": "code",
   "execution_count": 187,
   "metadata": {},
   "outputs": [],
   "source": [
    "filepath = os.path.join(\"..\",\"data\",\"pictures\")"
   ]
  },
  {
   "cell_type": "code",
   "execution_count": 188,
   "metadata": {},
   "outputs": [
    {
     "data": {
      "text/plain": [
       "'../data/pictures'"
      ]
     },
     "execution_count": 188,
     "metadata": {},
     "output_type": "execute_result"
    }
   ],
   "source": [
    "filepath"
   ]
  },
  {
   "cell_type": "code",
   "execution_count": null,
   "metadata": {},
   "outputs": [],
   "source": []
  },
  {
   "cell_type": "code",
   "execution_count": 189,
   "metadata": {},
   "outputs": [
    {
     "ename": "AttributeError",
     "evalue": "'NoneType' object has no attribute 'shape'",
     "output_type": "error",
     "traceback": [
      "\u001b[0;31m---------------------------------------------------------------------------\u001b[0m",
      "\u001b[0;31mAttributeError\u001b[0m                            Traceback (most recent call last)",
      "\u001b[0;32m<ipython-input-189-7687e7c8c236>\u001b[0m in \u001b[0;36m<module>\u001b[0;34m\u001b[0m\n\u001b[1;32m      6\u001b[0m \u001b[0;32mfor\u001b[0m \u001b[0mfilename\u001b[0m \u001b[0;32min\u001b[0m \u001b[0mos\u001b[0m\u001b[0;34m.\u001b[0m\u001b[0mlistdir\u001b[0m\u001b[0;34m(\u001b[0m\u001b[0mdata_path\u001b[0m\u001b[0;34m)\u001b[0m\u001b[0;34m:\u001b[0m\u001b[0;34m\u001b[0m\u001b[0;34m\u001b[0m\u001b[0m\n\u001b[1;32m      7\u001b[0m     \u001b[0mimage\u001b[0m \u001b[0;34m=\u001b[0m \u001b[0mcv2\u001b[0m\u001b[0;34m.\u001b[0m\u001b[0mimread\u001b[0m\u001b[0;34m(\u001b[0m\u001b[0mos\u001b[0m\u001b[0;34m.\u001b[0m\u001b[0mpath\u001b[0m\u001b[0;34m.\u001b[0m\u001b[0mjoin\u001b[0m\u001b[0;34m(\u001b[0m\u001b[0mdata_path\u001b[0m\u001b[0;34m,\u001b[0m \u001b[0mfilename\u001b[0m\u001b[0;34m)\u001b[0m\u001b[0;34m)\u001b[0m\u001b[0;34m\u001b[0m\u001b[0;34m\u001b[0m\u001b[0m\n\u001b[0;32m----> 8\u001b[0;31m     \u001b[0mnewlist\u001b[0m\u001b[0;34m.\u001b[0m\u001b[0mappend\u001b[0m\u001b[0;34m(\u001b[0m\u001b[0;34mf\"width, height, channels for {filename} are {image.shape}\"\u001b[0m\u001b[0;34m)\u001b[0m\u001b[0;34m\u001b[0m\u001b[0;34m\u001b[0m\u001b[0m\n\u001b[0m\u001b[1;32m      9\u001b[0m \u001b[0;34m\u001b[0m\u001b[0m\n\u001b[1;32m     10\u001b[0m \u001b[0;34m\u001b[0m\u001b[0m\n",
      "\u001b[0;31mAttributeError\u001b[0m: 'NoneType' object has no attribute 'shape'"
     ]
    }
   ],
   "source": [
    "#creating the newlist in which the image files with name will append to\n",
    "\n",
    "newlist = []\n",
    "data_path = Path(filepath)\n",
    "\n",
    "for filename in os.listdir(data_path):\n",
    "    image = cv2.imread(os.path.join(data_path, filename))\n",
    "    newlist.append(f\"width, height, channels for {filename} are {image.shape}\")\n",
    "   \n",
    "\n",
    "\n",
    "\n",
    " \n"
   ]
  },
  {
   "cell_type": "code",
   "execution_count": 190,
   "metadata": {},
   "outputs": [],
   "source": [
    "string_image_atr = \"\\n\".join(newlist) #We set them as newlines to create a better overview"
   ]
  },
  {
   "cell_type": "code",
   "execution_count": 191,
   "metadata": {},
   "outputs": [],
   "source": [
    "image_atr_file = os.path.join(\"..\",\"data\", \"image_file.txt\") #The joining the path for where the file is going to be saved"
   ]
  },
  {
   "cell_type": "code",
   "execution_count": 192,
   "metadata": {},
   "outputs": [],
   "source": [
    "with open(image_atr_file, \"w\", encoding = \"utf-8\") as file:\n",
    "    file.write(string_image_atr) #Writing the file above"
   ]
  },
  {
   "cell_type": "code",
   "execution_count": 193,
   "metadata": {},
   "outputs": [
    {
     "name": "stdout",
     "output_type": "stream",
     "text": [
      "{'filename': array([480, 640,   3]), 'height': 480, 'width': 640, 'channels': 3}\n",
      "{'filename': array([512, 512,   3]), 'height': 512, 'width': 512, 'channels': 3}\n",
      "{'filename': array([1110, 1282,    3]), 'height': 1110, 'width': 1282, 'channels': 3}\n",
      "{'filename': array([480, 640,   3]), 'height': 480, 'width': 640, 'channels': 3}\n",
      "{'filename': array([130, 100,   3]), 'height': 130, 'width': 100, 'channels': 3}\n",
      "{'filename': array([480, 640,   3]), 'height': 480, 'width': 640, 'channels': 3}\n",
      "{'filename': array([240, 320,   3]), 'height': 240, 'width': 320, 'channels': 3}\n",
      "{'filename': array([194, 259,   3]), 'height': 194, 'width': 259, 'channels': 3}\n",
      "{'filename': array([3723, 3595,    3]), 'height': 3723, 'width': 3595, 'channels': 3}\n",
      "{'filename': array([480, 640,   3]), 'height': 480, 'width': 640, 'channels': 3}\n",
      "{'filename': array([512, 512,   3]), 'height': 512, 'width': 512, 'channels': 3}\n",
      "{'filename': array([480, 640,   3]), 'height': 480, 'width': 640, 'channels': 3}\n",
      "{'filename': array([600, 868,   3]), 'height': 600, 'width': 868, 'channels': 3}\n",
      "{'filename': array([480, 640,   3]), 'height': 480, 'width': 640, 'channels': 3}\n",
      "{'filename': array([480, 640,   3]), 'height': 480, 'width': 640, 'channels': 3}\n",
      "{'filename': array([365, 588,   3]), 'height': 365, 'width': 588, 'channels': 3}\n",
      "{'filename': array([240, 320,   3]), 'height': 240, 'width': 320, 'channels': 3}\n",
      "{'filename': array([600, 800,   3]), 'height': 600, 'width': 800, 'channels': 3}\n",
      "{'filename': array([512, 512,   3]), 'height': 512, 'width': 512, 'channels': 3}\n",
      "{'filename': array([480, 640,   3]), 'height': 480, 'width': 640, 'channels': 3}\n",
      "{'filename': array([384, 512,   3]), 'height': 384, 'width': 512, 'channels': 3}\n",
      "{'filename': array([222, 180,   3]), 'height': 222, 'width': 180, 'channels': 3}\n",
      "{'filename': array([356, 493,   3]), 'height': 356, 'width': 493, 'channels': 3}\n",
      "{'filename': array([480, 640,   3]), 'height': 480, 'width': 640, 'channels': 3}\n",
      "{'filename': array([472, 697,   3]), 'height': 472, 'width': 697, 'channels': 3}\n",
      "{'filename': array([480, 640,   3]), 'height': 480, 'width': 640, 'channels': 3}\n",
      "{'filename': array([1110, 1282,    3]), 'height': 1110, 'width': 1282, 'channels': 3}\n",
      "{'filename': array([1110, 1282,    3]), 'height': 1110, 'width': 1282, 'channels': 3}\n",
      "{'filename': array([480, 512,   3]), 'height': 480, 'width': 512, 'channels': 3}\n",
      "{'filename': array([739, 600,   3]), 'height': 739, 'width': 600, 'channels': 3}\n"
     ]
    },
    {
     "ename": "AttributeError",
     "evalue": "'NoneType' object has no attribute 'shape'",
     "output_type": "error",
     "traceback": [
      "\u001b[0;31m---------------------------------------------------------------------------\u001b[0m",
      "\u001b[0;31mAttributeError\u001b[0m                            Traceback (most recent call last)",
      "\u001b[0;32m<ipython-input-193-89afebcfc265>\u001b[0m in \u001b[0;36m<module>\u001b[0;34m\u001b[0m\n\u001b[1;32m      3\u001b[0m     \u001b[0mimage\u001b[0m \u001b[0;34m=\u001b[0m \u001b[0mcv2\u001b[0m\u001b[0;34m.\u001b[0m\u001b[0mimread\u001b[0m\u001b[0;34m(\u001b[0m\u001b[0mos\u001b[0m\u001b[0;34m.\u001b[0m\u001b[0mpath\u001b[0m\u001b[0;34m.\u001b[0m\u001b[0mjoin\u001b[0m\u001b[0;34m(\u001b[0m\u001b[0mdatapath\u001b[0m\u001b[0;34m,\u001b[0m \u001b[0mfilename\u001b[0m\u001b[0;34m)\u001b[0m\u001b[0;34m)\u001b[0m\u001b[0;34m\u001b[0m\u001b[0;34m\u001b[0m\u001b[0m\n\u001b[1;32m      4\u001b[0m \u001b[0;34m\u001b[0m\u001b[0m\n\u001b[0;32m----> 5\u001b[0;31m     \u001b[0mheight\u001b[0m\u001b[0;34m,\u001b[0m \u001b[0mwidth\u001b[0m\u001b[0;34m,\u001b[0m \u001b[0mchannels\u001b[0m \u001b[0;34m=\u001b[0m \u001b[0mimage\u001b[0m\u001b[0;34m.\u001b[0m\u001b[0mshape\u001b[0m\u001b[0;34m\u001b[0m\u001b[0;34m\u001b[0m\u001b[0m\n\u001b[0m\u001b[1;32m      6\u001b[0m \u001b[0;34m\u001b[0m\u001b[0m\n\u001b[1;32m      7\u001b[0m     \u001b[0mhalf_height\u001b[0m \u001b[0;34m=\u001b[0m \u001b[0mint\u001b[0m\u001b[0;34m(\u001b[0m\u001b[0mheight\u001b[0m\u001b[0;34m/\u001b[0m\u001b[0;36m2\u001b[0m\u001b[0;34m)\u001b[0m\u001b[0;34m\u001b[0m\u001b[0;34m\u001b[0m\u001b[0m\n",
      "\u001b[0;31mAttributeError\u001b[0m: 'NoneType' object has no attribute 'shape'"
     ]
    }
   ],
   "source": [
    "#We make a loop in which the filename loops this part is not completed as I could not figure it out. \n",
    "for filename in os.listdir(datapath):\n",
    "    image = cv2.imread(os.path.join(datapath, filename))\n",
    "\n",
    "    height, width, channels = image.shape\n",
    "    \n",
    "    half_height = int(height/2)\n",
    "    half_width = int(width/2)\n",
    "    \n",
    "    quadrant_1 = image_split(0,half_height,0,half_width,image)\n",
    "    quadrant_2 = image_split(0,half_height,half_width, width,image)\n",
    "    quadrant_3 = image_split(half_height,height,0, half_width,image)\n",
    "    quadrant_4 = image_split(half_height,height,half_width, width,image)\n",
    "    \n",
    "    new_images = [quadrant_1, quadrant_2, quadrant_3, quadrant_4]\n",
    "    newlist = np.array(image.shape)\n",
    "    \n",
    "    #Trying to save the files I have given up. Don't know how to save it as a csv or even how to get the data sorted it out... \n",
    "    outfile = os.path.join(datapath, str(new_images) + \".jpg\")\n",
    "    \n",
    "    temp_df = ({'filename': newlist, 'height': height, 'width': width, \"channels\" : channels})\n",
    "\n",
    "    print(temp_df)"
   ]
  },
  {
   "cell_type": "code",
   "execution_count": 145,
   "metadata": {},
   "outputs": [
    {
     "data": {
      "text/plain": [
       "{'filename': 'left.jpg', 'height': 459, 'width': 612, 'channels': 3}"
      ]
     },
     "execution_count": 145,
     "metadata": {},
     "output_type": "execute_result"
    }
   ],
   "source": [
    "temp_df"
   ]
  },
  {
   "cell_type": "code",
   "execution_count": null,
   "metadata": {},
   "outputs": [],
   "source": [
    "#Rettelser ved review: \n",
    "\n",
    "import glob\n",
    "import cv2\n",
    "from pathlib import Path\n",
    "\n",
    "data_path = os.path.join(\"..\", \"data\", \"pictures\")\n",
    "for filename in Path(data_path).glob(\"*.jpeg\"): # you have several formats\n",
    "image = cv2.imread(str(filename)) # reading image\n",
    "\n",
    "saving split images (for every quadrant):\n",
    "f\n",
    "quadrant1_path = os.path.join(\"..\", \"data\", \"pictures\", f\"quadrant1_{filename}\")\n",
    "cv2.imwrite(quadrant1_path, quadrant1)\n",
    "\n",
    "\n",
    "Hope it helps."
   ]
  },
  {
   "cell_type": "code",
   "execution_count": null,
   "metadata": {},
   "outputs": [],
   "source": [
    "#Andet råd fra review\n",
    "\n",
    "#You make great code, and I think you're not far from completing your loop with splitting images and saving the files! - \n",
    "#I cannot figure out where the function image_split() comes from, but could the mistake be that you have to index the image? \n",
    "#so that you say e.g. quadrant_1 = image[0:int(image.shape[0]/2), 0:int(image.shape[1]/2)]?"
   ]
  }
 ],
 "metadata": {
  "kernelspec": {
   "display_name": "cv101",
   "language": "python",
   "name": "cv101"
  },
  "language_info": {
   "codemirror_mode": {
    "name": "ipython",
    "version": 3
   },
   "file_extension": ".py",
   "mimetype": "text/x-python",
   "name": "python",
   "nbconvert_exporter": "python",
   "pygments_lexer": "ipython3",
   "version": "3.6.9"
  }
 },
 "nbformat": 4,
 "nbformat_minor": 4
}
